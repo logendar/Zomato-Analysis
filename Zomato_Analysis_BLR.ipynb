{
  "nbformat": 4,
  "nbformat_minor": 0,
  "metadata": {
    "colab": {
      "provenance": []
    },
    "kernelspec": {
      "name": "python3",
      "display_name": "Python 3"
    },
    "language_info": {
      "name": "python"
    }
  },
  "cells": [
    {
      "cell_type": "code",
      "execution_count": null,
      "metadata": {
        "id": "bdNjBEHnXeva"
      },
      "outputs": [],
      "source": [
        "import pandas as pd\n",
        "import numpy as np\n",
        "import matplotlib.pyplot as plt\n",
        "import seaborn as sns"
      ]
    },
    {
      "cell_type": "markdown",
      "source": [],
      "metadata": {
        "id": "uu6Pq5PXX-99"
      }
    },
    {
      "cell_type": "markdown",
      "source": [
        "Reading CSV"
      ],
      "metadata": {
        "id": "XZ0wxfWCX9af"
      }
    },
    {
      "cell_type": "code",
      "source": [
        "df = pd.read_csv('../input/zomato-bangalore-restaurants/zomato.csv')\n",
        "df.head()"
      ],
      "metadata": {
        "id": "HzVtaTitXgCv"
      },
      "execution_count": null,
      "outputs": []
    },
    {
      "cell_type": "code",
      "source": [
        "df.info()"
      ],
      "metadata": {
        "id": "KCnnwrNyXkZ7"
      },
      "execution_count": null,
      "outputs": []
    },
    {
      "cell_type": "code",
      "source": [
        "df.drop_duplicates(inplace = True)\n",
        "df.shape"
      ],
      "metadata": {
        "id": "1Qmx3gHbXvRC"
      },
      "execution_count": null,
      "outputs": []
    },
    {
      "cell_type": "code",
      "source": [
        "df['rate'].unique()"
      ],
      "metadata": {
        "id": "f8p3QL_MXx5X"
      },
      "execution_count": null,
      "outputs": []
    },
    {
      "cell_type": "markdown",
      "source": [
        "Dropping Duplicates"
      ],
      "metadata": {
        "id": "56nLqee_YBbN"
      }
    },
    {
      "cell_type": "code",
      "source": [
        "df.drop_duplicates(inplace = True)\n",
        "df.shape"
      ],
      "metadata": {
        "id": "-1-aogbOX3Xp"
      },
      "execution_count": null,
      "outputs": []
    },
    {
      "cell_type": "markdown",
      "source": [
        "Cleaning Rate Column"
      ],
      "metadata": {
        "id": "JHiJp3CzYKUY"
      }
    },
    {
      "cell_type": "code",
      "source": [
        "df['rate'].unique()"
      ],
      "metadata": {
        "id": "h9IKtSs3YFzC"
      },
      "execution_count": null,
      "outputs": []
    },
    {
      "cell_type": "markdown",
      "source": [
        "Removing \"NEW\" , \"-\" and \"/5\" from Rate Column"
      ],
      "metadata": {
        "id": "jmA4g8n-YOn0"
      }
    },
    {
      "cell_type": "code",
      "source": [
        "def handlerate(value):\n",
        "    if(value=='NEW' or value=='-'):\n",
        "        return np.nan\n",
        "    else:\n",
        "        value = str(value).split('/')\n",
        "        value = value[0]\n",
        "        return float(value)\n",
        "\n",
        "df['rate'] = df['rate'].apply(handlerate)\n",
        "df['rate'].head()"
      ],
      "metadata": {
        "id": "_earSb75YMSO"
      },
      "execution_count": null,
      "outputs": []
    },
    {
      "cell_type": "markdown",
      "source": [
        "Filling Null Values in Rate Column with Mean"
      ],
      "metadata": {
        "id": "5RLZomvCYUzi"
      }
    },
    {
      "cell_type": "code",
      "source": [
        "df['rate'].fillna(df['rate'].mean(), inplace = True)\n",
        "df['rate'].isnull().sum()"
      ],
      "metadata": {
        "id": "WltD6MPWYWmh"
      },
      "execution_count": null,
      "outputs": []
    },
    {
      "cell_type": "code",
      "source": [
        "df.info()"
      ],
      "metadata": {
        "id": "sb6AfeygYaZ9"
      },
      "execution_count": null,
      "outputs": []
    },
    {
      "cell_type": "markdown",
      "source": [
        "Dropping Null Values"
      ],
      "metadata": {
        "id": "auPRBSeQYd9j"
      }
    },
    {
      "cell_type": "code",
      "source": [
        "df.dropna(inplace = True)\n",
        "df.head()"
      ],
      "metadata": {
        "id": "_0Nt0YsBYbdq"
      },
      "execution_count": null,
      "outputs": []
    },
    {
      "cell_type": "code",
      "source": [
        "df.rename(columns = {'approx_cost(for two people)':'Cost2plates', 'listed_in(type)':'Type'}, inplace = True)\n",
        "df.head()"
      ],
      "metadata": {
        "id": "_nhsiBDpYjA3"
      },
      "execution_count": null,
      "outputs": []
    },
    {
      "cell_type": "code",
      "source": [
        "df['location'].unique()"
      ],
      "metadata": {
        "id": "wc7317VwYj6n"
      },
      "execution_count": null,
      "outputs": []
    },
    {
      "cell_type": "code",
      "source": [
        "df['listed_in(city)'].unique()"
      ],
      "metadata": {
        "id": "U2HDv4DQYoIM"
      },
      "execution_count": null,
      "outputs": []
    },
    {
      "cell_type": "markdown",
      "source": [
        "Listed in(city) and location, both are there, lets keep only one."
      ],
      "metadata": {
        "id": "ILk-Hn4XY3sT"
      }
    },
    {
      "cell_type": "code",
      "source": [
        "df = df.drop(['listed_in(city)'], axis = 1)"
      ],
      "metadata": {
        "id": "tyGVsC41Y2Dv"
      },
      "execution_count": null,
      "outputs": []
    },
    {
      "cell_type": "code",
      "source": [
        "df['Cost2plates'].unique()"
      ],
      "metadata": {
        "id": "3wvOPU00Y7-D"
      },
      "execution_count": null,
      "outputs": []
    },
    {
      "cell_type": "markdown",
      "source": [
        "Removing , from Cost2Plates Column"
      ],
      "metadata": {
        "id": "YksAQmwuY-zU"
      }
    },
    {
      "cell_type": "code",
      "source": [
        "def handlecomma(value):\n",
        "    value = str(value)\n",
        "    if ',' in value:\n",
        "        value = value.replace(',', '')\n",
        "        return float(value)\n",
        "    else:\n",
        "        return float(value)\n",
        "\n",
        "df['Cost2plates'] = df['Cost2plates'].apply(handlecomma)\n",
        "df['Cost2plates'].unique()"
      ],
      "metadata": {
        "id": "dWA7XqwaY-UK"
      },
      "execution_count": null,
      "outputs": []
    },
    {
      "cell_type": "code",
      "source": [
        "df.head()"
      ],
      "metadata": {
        "id": "m0OH1og5ZGn0"
      },
      "execution_count": null,
      "outputs": []
    },
    {
      "cell_type": "markdown",
      "source": [
        "Cleaning Rest Type Column"
      ],
      "metadata": {
        "id": "S5boxVxUZH1w"
      }
    },
    {
      "cell_type": "code",
      "source": [
        "rest_types = df['rest_type'].value_counts(ascending  = False)\n",
        "rest_types"
      ],
      "metadata": {
        "id": "tb1I0E_-ZHeQ"
      },
      "execution_count": null,
      "outputs": []
    },
    {
      "cell_type": "markdown",
      "source": [
        "Making Rest Types less than 1000 in frequency as others"
      ],
      "metadata": {
        "id": "PZOi3uHdZOcK"
      }
    },
    {
      "cell_type": "code",
      "source": [
        "def handle_rest_type(value):\n",
        "    if(value in rest_types_lessthan1000):\n",
        "        return 'others'\n",
        "    else:\n",
        "        return value\n",
        "\n",
        "df['rest_type'] = df['rest_type'].apply(handle_rest_type)\n",
        "df['rest_type'].value_counts()"
      ],
      "metadata": {
        "id": "iGwkrR1yZP6V"
      },
      "execution_count": null,
      "outputs": []
    },
    {
      "cell_type": "markdown",
      "source": [
        "Cleaning Location Column"
      ],
      "metadata": {
        "id": "aUgOlZAEZUN2"
      }
    },
    {
      "cell_type": "code",
      "source": [
        "location = df['location'].value_counts(ascending  = False)\n",
        "\n",
        "location_lessthan300 = location[location<300]\n",
        "\n",
        "\n",
        "\n",
        "def handle_location(value):\n",
        "    if(value in location_lessthan300):\n",
        "        return 'others'\n",
        "    else:\n",
        "        return value\n",
        "\n",
        "df['location'] = df['location'].apply(handle_location)\n",
        "df['location'].value_counts()"
      ],
      "metadata": {
        "id": "dQSkBePhZXU2"
      },
      "execution_count": null,
      "outputs": []
    },
    {
      "cell_type": "markdown",
      "source": [
        "Cleaning Cuisines Column"
      ],
      "metadata": {
        "id": "mLyhg3rWZbN7"
      }
    },
    {
      "cell_type": "code",
      "source": [
        "cuisines = df['cuisines'].value_counts(ascending  = False)\n",
        "\n",
        "\n",
        "cuisines_lessthan100 = cuisines[cuisines<100]\n",
        "\n",
        "\n",
        "\n",
        "def handle_cuisines(value):\n",
        "    if(value in cuisines_lessthan100):\n",
        "        return 'others'\n",
        "    else:\n",
        "        return value\n",
        "\n",
        "df['cuisines'] = df['cuisines'].apply(handle_cuisines)\n",
        "df['cuisines'].value_counts()"
      ],
      "metadata": {
        "id": "hwSTxcT1ZcJW"
      },
      "execution_count": null,
      "outputs": []
    },
    {
      "cell_type": "code",
      "source": [
        "df.head()"
      ],
      "metadata": {
        "id": "7Qot1L63ZhhH"
      },
      "execution_count": null,
      "outputs": []
    },
    {
      "cell_type": "markdown",
      "source": [
        "Visualization"
      ],
      "metadata": {
        "id": "8U_BcCfVZie_"
      }
    },
    {
      "cell_type": "markdown",
      "source": [
        "Count Plot of Various Locations"
      ],
      "metadata": {
        "id": "k5C9yLYbZm4V"
      }
    },
    {
      "cell_type": "code",
      "source": [
        "plt.figure(figsize = (16,10))\n",
        "ax = sns.countplot(df['location'])\n",
        "plt.xticks(rotation=90)"
      ],
      "metadata": {
        "id": "dmtLGQqSZobu"
      },
      "execution_count": null,
      "outputs": []
    },
    {
      "cell_type": "markdown",
      "source": [
        "Visualizing Online Order"
      ],
      "metadata": {
        "id": "Mj9pSDYOZsC4"
      }
    },
    {
      "cell_type": "code",
      "source": [
        "plt.figure(figsize = (6,6))\n",
        "sns.countplot(df['online_order'], palette = 'inferno')"
      ],
      "metadata": {
        "id": "a1SBnzg7ZtLu"
      },
      "execution_count": null,
      "outputs": []
    },
    {
      "cell_type": "markdown",
      "source": [
        "Visualizing Book Table"
      ],
      "metadata": {
        "id": "SpuwuauxZxz8"
      }
    },
    {
      "cell_type": "code",
      "source": [
        "plt.figure(figsize = (6,6))\n",
        "sns.countplot(df['book_table'], palette = 'rainbow')"
      ],
      "metadata": {
        "id": "NxeV1IPmZzhj"
      },
      "execution_count": null,
      "outputs": []
    },
    {
      "cell_type": "markdown",
      "source": [
        "Visualizing Online Order Facility, Location Wise\n"
      ],
      "metadata": {
        "id": "ezgga-kBZ5L_"
      }
    },
    {
      "cell_type": "code",
      "source": [
        "df1 = df.groupby(['location','online_order'])['name'].count()\n",
        "df1.to_csv('location_online.csv')\n",
        "df1 = pd.read_csv('location_online.csv')\n",
        "df1 = pd.pivot_table(df1, values=None, index=['location'], columns=['online_order'], fill_value=0, aggfunc=np.sum)\n",
        "df1"
      ],
      "metadata": {
        "id": "k7rBWUyRZ6x3"
      },
      "execution_count": null,
      "outputs": []
    },
    {
      "cell_type": "code",
      "source": [
        "df1.plot(kind = 'bar', figsize = (15,8))"
      ],
      "metadata": {
        "id": "EJTNMvkAaA1Z"
      },
      "execution_count": null,
      "outputs": []
    },
    {
      "cell_type": "markdown",
      "source": [
        "Visualizing Top Cuisines"
      ],
      "metadata": {
        "id": "FzFFACKtaDn1"
      }
    },
    {
      "cell_type": "code",
      "source": [
        "df6 = df[['cuisines', 'votes']]\n",
        "df6.drop_duplicates()\n",
        "df7 = df6.groupby(['cuisines'])['votes'].sum()\n",
        "df7 = df7.to_frame()\n",
        "df7 = df7.sort_values('votes', ascending=False)\n",
        "df7.head()"
      ],
      "metadata": {
        "id": "X_g_wNvmaKxP"
      },
      "execution_count": null,
      "outputs": []
    },
    {
      "cell_type": "code",
      "source": [
        "df7 = df7.iloc[1:, :]\n",
        "df7.head()"
      ],
      "metadata": {
        "id": "uun7yIk7aM3K"
      },
      "execution_count": null,
      "outputs": []
    },
    {
      "cell_type": "code",
      "source": [
        "plt.figure(figsize = (15,8))\n",
        "sns.barplot(df7.index , df7['votes'])\n",
        "plt.xticks(rotation = 90)"
      ],
      "metadata": {
        "id": "TOmxhq4-aPJr"
      },
      "execution_count": null,
      "outputs": []
    }
  ]
}